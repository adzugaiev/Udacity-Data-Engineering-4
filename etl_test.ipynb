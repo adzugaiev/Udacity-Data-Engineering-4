{
 "cells": [
  {
   "cell_type": "code",
   "execution_count": 1,
   "metadata": {
    "editable": true
   },
   "outputs": [
    {
     "data": {
      "application/vnd.jupyter.widget-view+json": {
       "model_id": "3f4978856275434d8bcb92a082fd52e7",
       "version_major": 2,
       "version_minor": 0
      },
      "text/plain": [
       "VBox()"
      ]
     },
     "metadata": {},
     "output_type": "display_data"
    },
    {
     "name": "stdout",
     "output_type": "stream",
     "text": [
      "Starting Spark application\n"
     ]
    },
    {
     "data": {
      "text/html": [
       "<table>\n",
       "<tr><th>ID</th><th>YARN Application ID</th><th>Kind</th><th>State</th><th>Spark UI</th><th>Driver log</th><th>Current session?</th></tr><tr><td>1</td><td>application_1612381796611_0002</td><td>pyspark</td><td>idle</td><td><a target=\"_blank\" href=\"http://ip-172-31-60-121.us-west-2.compute.internal:20888/proxy/application_1612381796611_0002/\">Link</a></td><td><a target=\"_blank\" href=\"http://ip-172-31-63-40.us-west-2.compute.internal:8042/node/containerlogs/container_1612381796611_0002_01_000001/livy\">Link</a></td><td>✔</td></tr></table>"
      ],
      "text/plain": [
       "<IPython.core.display.HTML object>"
      ]
     },
     "metadata": {},
     "output_type": "display_data"
    },
    {
     "data": {
      "application/vnd.jupyter.widget-view+json": {
       "model_id": "",
       "version_major": 2,
       "version_minor": 0
      },
      "text/plain": [
       "FloatProgress(value=0.0, bar_style='info', description='Progress:', layout=Layout(height='25px', width='50%'),…"
      ]
     },
     "metadata": {},
     "output_type": "display_data"
    },
    {
     "name": "stdout",
     "output_type": "stream",
     "text": [
      "SparkSession available as 'spark'.\n"
     ]
    },
    {
     "data": {
      "application/vnd.jupyter.widget-view+json": {
       "model_id": "",
       "version_major": 2,
       "version_minor": 0
      },
      "text/plain": [
       "FloatProgress(value=0.0, bar_style='info', description='Progress:', layout=Layout(height='25px', width='50%'),…"
      ]
     },
     "metadata": {},
     "output_type": "display_data"
    }
   ],
   "source": [
    "from pyspark.sql.functions import udf, col, monotonically_increasing_id\n",
    "from pyspark.sql.functions import hour, dayofmonth, weekofyear, month, year, date_format\n",
    "from pyspark.sql.types import StructType, StructField, StringType, DoubleType, IntegerType, DateType, TimestampType\n",
    "from datetime import datetime as dt"
   ]
  },
  {
   "cell_type": "code",
   "execution_count": 4,
   "metadata": {},
   "outputs": [
    {
     "data": {
      "application/vnd.jupyter.widget-view+json": {
       "model_id": "fc254caf393843c5a02c48f8a85d21d1",
       "version_major": 2,
       "version_minor": 0
      },
      "text/plain": [
       "VBox()"
      ]
     },
     "metadata": {},
     "output_type": "display_data"
    },
    {
     "data": {
      "application/vnd.jupyter.widget-view+json": {
       "model_id": "",
       "version_major": 2,
       "version_minor": 0
      },
      "text/plain": [
       "FloatProgress(value=0.0, bar_style='info', description='Progress:', layout=Layout(height='25px', width='50%'),…"
      ]
     },
     "metadata": {},
     "output_type": "display_data"
    }
   ],
   "source": [
    "input_data = 's3a://udacity-dend/'\n",
    "output_data = 's3a://adzugaiev-sparkify/output/'"
   ]
  },
  {
   "cell_type": "markdown",
   "metadata": {
    "editable": true
   },
   "source": [
    "#### Process Song Data\n",
    "The files are partitioned by the first three letters of each song's track ID."
   ]
  },
  {
   "cell_type": "code",
   "execution_count": 5,
   "metadata": {
    "editable": true
   },
   "outputs": [
    {
     "data": {
      "application/vnd.jupyter.widget-view+json": {
       "model_id": "e4bd59c4d7c8479382364b8c51041786",
       "version_major": 2,
       "version_minor": 0
      },
      "text/plain": [
       "VBox()"
      ]
     },
     "metadata": {},
     "output_type": "display_data"
    },
    {
     "data": {
      "application/vnd.jupyter.widget-view+json": {
       "model_id": "",
       "version_major": 2,
       "version_minor": 0
      },
      "text/plain": [
       "FloatProgress(value=0.0, bar_style='info', description='Progress:', layout=Layout(height='25px', width='50%'),…"
      ]
     },
     "metadata": {},
     "output_type": "display_data"
    }
   ],
   "source": [
    "# get filepath to song data file\n",
    "song_data = input_data + 'song_data/*/*/*/*.json'\n",
    "\n",
    "# define schema for song data\n",
    "song_schema = StructType([\n",
    "    StructField('song_id', StringType()),\n",
    "    StructField('artist_id', StringType()),\n",
    "    StructField('artist_name', StringType()),\n",
    "    StructField('artist_location', StringType()),\n",
    "    StructField('artist_latitude', DoubleType()),\n",
    "    StructField('artist_longitude', DoubleType()),\n",
    "    StructField('duration', DoubleType()),\n",
    "    StructField('num_songs', IntegerType()),\n",
    "    StructField('title', StringType()),\n",
    "    StructField('year', IntegerType())\n",
    "])"
   ]
  },
  {
   "cell_type": "code",
   "execution_count": 6,
   "metadata": {
    "editable": true
   },
   "outputs": [
    {
     "data": {
      "application/vnd.jupyter.widget-view+json": {
       "model_id": "6b4f51d181a340d7a37ab4708e912fd9",
       "version_major": 2,
       "version_minor": 0
      },
      "text/plain": [
       "VBox()"
      ]
     },
     "metadata": {},
     "output_type": "display_data"
    },
    {
     "data": {
      "application/vnd.jupyter.widget-view+json": {
       "model_id": "",
       "version_major": 2,
       "version_minor": 0
      },
      "text/plain": [
       "FloatProgress(value=0.0, bar_style='info', description='Progress:', layout=Layout(height='25px', width='50%'),…"
      ]
     },
     "metadata": {},
     "output_type": "display_data"
    },
    {
     "name": "stdout",
     "output_type": "stream",
     "text": [
      "Songs records: 14896\n",
      "+------------------+------------------+--------------------+--------------------+---------------+----------------+---------+---------+--------------------+----+\n",
      "|           song_id|         artist_id|         artist_name|     artist_location|artist_latitude|artist_longitude| duration|num_songs|               title|year|\n",
      "+------------------+------------------+--------------------+--------------------+---------------+----------------+---------+---------+--------------------+----+\n",
      "|SOVIYJY12AF72A4B00|AR4T2IF1187B9ADBB7|          Billy Idol|<a href=\"http://b...|       63.96027|        10.22442|233.22077|        1|The Dead Next Doo...|1983|\n",
      "|SOVYXYL12AF72A3373|AR4T2IF1187B9ADBB7|          Billy Idol|<a href=\"http://b...|       63.96027|        10.22442|287.92118|        1|Rebel Yell (1999 ...|1983|\n",
      "|SOEPTVC12A67ADD0DA|ARQ846I1187B9A7083|Yvonne S. Moriart...|                    |           null|            null|196.04853|        1|To Zucchabar [\"Gl...|   0|\n",
      "|SOLQYSZ12AB0181F97|AR4T2IF1187B9ADBB7|          Billy Idol|<a href=\"http://b...|       63.96027|        10.22442|247.53587|        1|    Mony Mony (Live)|1987|\n",
      "|SOVPFJK12A6701CB16|AR3TZ691187FB3DBB1|Russell Watson / ...|                    |           null|            null|273.44934|        1|Barcelona - (Frie...|2000|\n",
      "+------------------+------------------+--------------------+--------------------+---------------+----------------+---------+---------+--------------------+----+\n",
      "only showing top 5 rows"
     ]
    }
   ],
   "source": [
    "df = spark.read.json(song_data, schema = song_schema)\n",
    "df.cache()\n",
    "print('Songs records: {}'.format(df.count()))\n",
    "df.show(5)"
   ]
  },
  {
   "cell_type": "markdown",
   "metadata": {
    "editable": true
   },
   "source": [
    "Songs Table, with files partitioned by year and then artist."
   ]
  },
  {
   "cell_type": "code",
   "execution_count": 7,
   "metadata": {
    "editable": true
   },
   "outputs": [
    {
     "data": {
      "application/vnd.jupyter.widget-view+json": {
       "model_id": "78cd854391ac43ba9340748159afac2e",
       "version_major": 2,
       "version_minor": 0
      },
      "text/plain": [
       "VBox()"
      ]
     },
     "metadata": {},
     "output_type": "display_data"
    },
    {
     "data": {
      "application/vnd.jupyter.widget-view+json": {
       "model_id": "",
       "version_major": 2,
       "version_minor": 0
      },
      "text/plain": [
       "FloatProgress(value=0.0, bar_style='info', description='Progress:', layout=Layout(height='25px', width='50%'),…"
      ]
     },
     "metadata": {},
     "output_type": "display_data"
    },
    {
     "name": "stdout",
     "output_type": "stream",
     "text": [
      "Songs count: 14896\n",
      "+------------------+--------------------+------------------+----+---------+\n",
      "|           song_id|               title|         artist_id|year| duration|\n",
      "+------------------+--------------------+------------------+----+---------+\n",
      "|SOBOYFA12A6701D128|Facepeeler (Album...|ARB9VHL1187B9AEC3F|2005|290.16771|\n",
      "|SOKRZWV12A81C23FFB|         Ghali Alayi|AR35VZA1187B9ABCF1|   0|215.71873|\n",
      "|SOOYQEG12AC468F2FC|Yes Love_ My Soul...|ARNCTJ91187B98D813|   0| 75.62404|\n",
      "|SOUNJPE12A58A78393|        Just As I Am|ARTL0JQ1187FB4D190|1985|283.16689|\n",
      "|SOKUOAK12A6D4FD5E9|           The Music|ARI29D81187B9B096F|2007|216.78975|\n",
      "+------------------+--------------------+------------------+----+---------+\n",
      "only showing top 5 rows"
     ]
    }
   ],
   "source": [
    "songs_cols = ['song_id', 'title', 'artist_id', 'year', 'duration']\n",
    "songs_table = df.select(songs_cols).dropDuplicates(['song_id']).repartition('year', 'artist_id')\n",
    "print('Songs count: {}'.format(songs_table.count()))\n",
    "songs_table.show(5)"
   ]
  },
  {
   "cell_type": "code",
   "execution_count": 8,
   "metadata": {
    "editable": true
   },
   "outputs": [
    {
     "data": {
      "application/vnd.jupyter.widget-view+json": {
       "model_id": "7d83b7584ca24bc9b1b5aefa0d680d05",
       "version_major": 2,
       "version_minor": 0
      },
      "text/plain": [
       "VBox()"
      ]
     },
     "metadata": {},
     "output_type": "display_data"
    },
    {
     "data": {
      "application/vnd.jupyter.widget-view+json": {
       "model_id": "",
       "version_major": 2,
       "version_minor": 0
      },
      "text/plain": [
       "FloatProgress(value=0.0, bar_style='info', description='Progress:', layout=Layout(height='25px', width='50%'),…"
      ]
     },
     "metadata": {},
     "output_type": "display_data"
    }
   ],
   "source": [
    "songs_table.limit(5).write.partitionBy('year', 'artist_id').parquet(output_data + 'songs/') #.limit(5)"
   ]
  },
  {
   "cell_type": "markdown",
   "metadata": {
    "editable": true
   },
   "source": [
    "Artists Table"
   ]
  },
  {
   "cell_type": "code",
   "execution_count": 9,
   "metadata": {
    "editable": true
   },
   "outputs": [
    {
     "data": {
      "application/vnd.jupyter.widget-view+json": {
       "model_id": "8df4b1a78de2469ea5e348b3b62c63f1",
       "version_major": 2,
       "version_minor": 0
      },
      "text/plain": [
       "VBox()"
      ]
     },
     "metadata": {},
     "output_type": "display_data"
    },
    {
     "data": {
      "application/vnd.jupyter.widget-view+json": {
       "model_id": "",
       "version_major": 2,
       "version_minor": 0
      },
      "text/plain": [
       "FloatProgress(value=0.0, bar_style='info', description='Progress:', layout=Layout(height='25px', width='50%'),…"
      ]
     },
     "metadata": {},
     "output_type": "display_data"
    },
    {
     "name": "stdout",
     "output_type": "stream",
     "text": [
      "Artists count: 9993\n",
      "+------------------+--------------------+--------+--------+---------+\n",
      "|         artist_id|                name|location|latitude|longitude|\n",
      "+------------------+--------------------+--------+--------+---------+\n",
      "|AR1OGXT1187B9893EB|Lester Flatt / Ea...|        |    null|     null|\n",
      "|AR2TN021187B998B29|            Declaime|        |    null|     null|\n",
      "|AR2UXTA1187B98B0AF|   Theoretical Girls|        |    null|     null|\n",
      "|AR43RZ01187FB5128D|         Lord Nelson|        |    null|     null|\n",
      "|AR58CZ21187B9AF528|  WESTERNHAGEN (HCL)|        |    null|     null|\n",
      "+------------------+--------------------+--------+--------+---------+\n",
      "only showing top 5 rows"
     ]
    }
   ],
   "source": [
    "artists_cols = ['artist_id',\n",
    "                'artist_name as name',\n",
    "                'artist_location as location',\n",
    "                'artist_latitude as latitude',\n",
    "                'artist_longitude as longitude']\n",
    "\n",
    "# using selectExpr() because of 'as' column aliases present\n",
    "artists_table = df.selectExpr(artists_cols).dropDuplicates(['artist_id', 'name'])\n",
    "print('Artists count: {}'.format(artists_table.count()))\n",
    "artists_table.show(5)"
   ]
  },
  {
   "cell_type": "code",
   "execution_count": 10,
   "metadata": {
    "editable": true
   },
   "outputs": [
    {
     "data": {
      "application/vnd.jupyter.widget-view+json": {
       "model_id": "81a60ebfbe4449ecb69af4ae748fcf95",
       "version_major": 2,
       "version_minor": 0
      },
      "text/plain": [
       "VBox()"
      ]
     },
     "metadata": {},
     "output_type": "display_data"
    },
    {
     "data": {
      "application/vnd.jupyter.widget-view+json": {
       "model_id": "",
       "version_major": 2,
       "version_minor": 0
      },
      "text/plain": [
       "FloatProgress(value=0.0, bar_style='info', description='Progress:', layout=Layout(height='25px', width='50%'),…"
      ]
     },
     "metadata": {},
     "output_type": "display_data"
    }
   ],
   "source": [
    "artists_table.limit(5).write.parquet(output_data + 'artists/') #.limit(5)"
   ]
  },
  {
   "cell_type": "markdown",
   "metadata": {
    "editable": true
   },
   "source": [
    "#### Process Log Data\n",
    "The log files in the dataset you'll be working with are partitioned by year and month."
   ]
  },
  {
   "cell_type": "code",
   "execution_count": 11,
   "metadata": {
    "editable": true
   },
   "outputs": [
    {
     "data": {
      "application/vnd.jupyter.widget-view+json": {
       "model_id": "cc9b4b4bf0624eb5a7df69daad0bb215",
       "version_major": 2,
       "version_minor": 0
      },
      "text/plain": [
       "VBox()"
      ]
     },
     "metadata": {},
     "output_type": "display_data"
    },
    {
     "data": {
      "application/vnd.jupyter.widget-view+json": {
       "model_id": "",
       "version_major": 2,
       "version_minor": 0
      },
      "text/plain": [
       "FloatProgress(value=0.0, bar_style='info', description='Progress:', layout=Layout(height='25px', width='50%'),…"
      ]
     },
     "metadata": {},
     "output_type": "display_data"
    },
    {
     "name": "stdout",
     "output_type": "stream",
     "text": [
      "'NextSong' events count: 6820\n",
      "root\n",
      " |-- artist: string (nullable = true)\n",
      " |-- auth: string (nullable = true)\n",
      " |-- firstName: string (nullable = true)\n",
      " |-- gender: string (nullable = true)\n",
      " |-- itemInSession: long (nullable = true)\n",
      " |-- lastName: string (nullable = true)\n",
      " |-- length: double (nullable = true)\n",
      " |-- level: string (nullable = true)\n",
      " |-- location: string (nullable = true)\n",
      " |-- method: string (nullable = true)\n",
      " |-- page: string (nullable = true)\n",
      " |-- registration: double (nullable = true)\n",
      " |-- sessionId: long (nullable = true)\n",
      " |-- song: string (nullable = true)\n",
      " |-- status: long (nullable = true)\n",
      " |-- ts: long (nullable = true)\n",
      " |-- userAgent: string (nullable = true)\n",
      " |-- userId: string (nullable = true)"
     ]
    }
   ],
   "source": [
    "log_data = input_data + 'log-data/*/*/*.json'\n",
    "df = spark.read.json(log_data).where(\"page = 'NextSong'\")\n",
    "df.cache()\n",
    "print(\"'NextSong' events count: {}\".format(df.count()))\n",
    "df.printSchema()"
   ]
  },
  {
   "cell_type": "markdown",
   "metadata": {
    "editable": true
   },
   "source": [
    "Users Table"
   ]
  },
  {
   "cell_type": "code",
   "execution_count": 12,
   "metadata": {
    "editable": true
   },
   "outputs": [
    {
     "data": {
      "application/vnd.jupyter.widget-view+json": {
       "model_id": "9011e1fc12e4481ba04f6b9348f81262",
       "version_major": 2,
       "version_minor": 0
      },
      "text/plain": [
       "VBox()"
      ]
     },
     "metadata": {},
     "output_type": "display_data"
    },
    {
     "data": {
      "application/vnd.jupyter.widget-view+json": {
       "model_id": "",
       "version_major": 2,
       "version_minor": 0
      },
      "text/plain": [
       "FloatProgress(value=0.0, bar_style='info', description='Progress:', layout=Layout(height='25px', width='50%'),…"
      ]
     },
     "metadata": {},
     "output_type": "display_data"
    },
    {
     "name": "stdout",
     "output_type": "stream",
     "text": [
      "Users count: 96\n",
      "+-------+----------+---------+------+-----+\n",
      "|user_id|first_name|last_name|gender|level|\n",
      "+-------+----------+---------+------+-----+\n",
      "|     51|      Maia|    Burke|     F| free|\n",
      "|      7|    Adelyn|   Jordan|     F| free|\n",
      "|     15|      Lily|     Koch|     F| paid|\n",
      "|     54|     Kaleb|     Cook|     M| free|\n",
      "|    101|    Jayden|      Fox|     M| free|\n",
      "+-------+----------+---------+------+-----+\n",
      "only showing top 5 rows"
     ]
    }
   ],
   "source": [
    "users_cols = ['userId as user_id', 'firstName as first_name', 'lastName as last_name', 'gender', 'level']\n",
    "users_table = df.selectExpr(users_cols).dropDuplicates(['user_id'])\n",
    "print('Users count: {}'.format(users_table.count()))\n",
    "users_table.show(5)"
   ]
  },
  {
   "cell_type": "code",
   "execution_count": 13,
   "metadata": {
    "editable": true
   },
   "outputs": [
    {
     "data": {
      "application/vnd.jupyter.widget-view+json": {
       "model_id": "e70a4e7511a141c19bd199cbbc161da2",
       "version_major": 2,
       "version_minor": 0
      },
      "text/plain": [
       "VBox()"
      ]
     },
     "metadata": {},
     "output_type": "display_data"
    },
    {
     "data": {
      "application/vnd.jupyter.widget-view+json": {
       "model_id": "",
       "version_major": 2,
       "version_minor": 0
      },
      "text/plain": [
       "FloatProgress(value=0.0, bar_style='info', description='Progress:', layout=Layout(height='25px', width='50%'),…"
      ]
     },
     "metadata": {},
     "output_type": "display_data"
    }
   ],
   "source": [
    "users_table.write.parquet(output_data + 'users/') #.limit(5)"
   ]
  },
  {
   "cell_type": "markdown",
   "metadata": {
    "editable": true
   },
   "source": [
    "Time Table, with files partitioned by year and month."
   ]
  },
  {
   "cell_type": "code",
   "execution_count": 15,
   "metadata": {
    "editable": true
   },
   "outputs": [
    {
     "data": {
      "application/vnd.jupyter.widget-view+json": {
       "model_id": "3a9b5c244f0a40e2a03fac797e98eccd",
       "version_major": 2,
       "version_minor": 0
      },
      "text/plain": [
       "VBox()"
      ]
     },
     "metadata": {},
     "output_type": "display_data"
    },
    {
     "data": {
      "application/vnd.jupyter.widget-view+json": {
       "model_id": "",
       "version_major": 2,
       "version_minor": 0
      },
      "text/plain": [
       "FloatProgress(value=0.0, bar_style='info', description='Progress:', layout=Layout(height='25px', width='50%'),…"
      ]
     },
     "metadata": {},
     "output_type": "display_data"
    },
    {
     "name": "stdout",
     "output_type": "stream",
     "text": [
      "Timestamps count: 6813\n",
      "+--------------------+----+---+----+-----+----+-------+\n",
      "|          start_time|hour|day|week|month|year|weekday|\n",
      "+--------------------+----+---+----+-----+----+-------+\n",
      "|2018-11-05 12:15:...|  12|  5|  45|   11|2018|    Mon|\n",
      "|2018-11-05 13:47:...|  13|  5|  45|   11|2018|    Mon|\n",
      "|2018-11-05 14:52:...|  14|  5|  45|   11|2018|    Mon|\n",
      "|2018-11-05 18:07:...|  18|  5|  45|   11|2018|    Mon|\n",
      "|2018-11-05 18:18:...|  18|  5|  45|   11|2018|    Mon|\n",
      "+--------------------+----+---+----+-----+----+-------+\n",
      "only showing top 5 rows"
     ]
    }
   ],
   "source": [
    "to_timestamp = udf(lambda x : dt.utcfromtimestamp(x / 1e3), TimestampType())\n",
    "df = df.withColumn('start_time', to_timestamp('ts'))\n",
    "\n",
    "time_table = df.select('start_time').dropDuplicates() \\\n",
    "    .withColumn('hour', hour('start_time')) \\\n",
    "    .withColumn('day',  dayofmonth('start_time')) \\\n",
    "    .withColumn('week', weekofyear('start_time')) \\\n",
    "    .withColumn('month', month('start_time')) \\\n",
    "    .withColumn('year', year('start_time')) \\\n",
    "    .withColumn('weekday', date_format('start_time', 'E')) \\\n",
    "    .repartition('year', 'month')\n",
    "print('Timestamps count: {}'.format(time_table.count()))\n",
    "time_table.show(5)"
   ]
  },
  {
   "cell_type": "code",
   "execution_count": 16,
   "metadata": {
    "editable": true
   },
   "outputs": [
    {
     "data": {
      "application/vnd.jupyter.widget-view+json": {
       "model_id": "0e40fa2327984faaa3fbfedccbec0d47",
       "version_major": 2,
       "version_minor": 0
      },
      "text/plain": [
       "VBox()"
      ]
     },
     "metadata": {},
     "output_type": "display_data"
    },
    {
     "data": {
      "application/vnd.jupyter.widget-view+json": {
       "model_id": "",
       "version_major": 2,
       "version_minor": 0
      },
      "text/plain": [
       "FloatProgress(value=0.0, bar_style='info', description='Progress:', layout=Layout(height='25px', width='50%'),…"
      ]
     },
     "metadata": {},
     "output_type": "display_data"
    }
   ],
   "source": [
    "time_table.limit(5).write.partitionBy('year', 'month').parquet(output_data + 'time/') #.limit(5)"
   ]
  },
  {
   "cell_type": "markdown",
   "metadata": {
    "editable": true
   },
   "source": [
    "Songplays Table, with files partitioned by year and month."
   ]
  },
  {
   "cell_type": "code",
   "execution_count": 17,
   "metadata": {
    "editable": true
   },
   "outputs": [
    {
     "data": {
      "application/vnd.jupyter.widget-view+json": {
       "model_id": "0db111035c184355966c3092dccd0483",
       "version_major": 2,
       "version_minor": 0
      },
      "text/plain": [
       "VBox()"
      ]
     },
     "metadata": {},
     "output_type": "display_data"
    },
    {
     "data": {
      "application/vnd.jupyter.widget-view+json": {
       "model_id": "",
       "version_major": 2,
       "version_minor": 0
      },
      "text/plain": [
       "FloatProgress(value=0.0, bar_style='info', description='Progress:', layout=Layout(height='25px', width='50%'),…"
      ]
     },
     "metadata": {},
     "output_type": "display_data"
    },
    {
     "name": "stdout",
     "output_type": "stream",
     "text": [
      "root\n",
      " |-- artist: string (nullable = true)\n",
      " |-- auth: string (nullable = true)\n",
      " |-- firstName: string (nullable = true)\n",
      " |-- gender: string (nullable = true)\n",
      " |-- itemInSession: long (nullable = true)\n",
      " |-- lastName: string (nullable = true)\n",
      " |-- length: double (nullable = true)\n",
      " |-- level: string (nullable = true)\n",
      " |-- location: string (nullable = true)\n",
      " |-- method: string (nullable = true)\n",
      " |-- page: string (nullable = true)\n",
      " |-- registration: double (nullable = true)\n",
      " |-- sessionId: long (nullable = true)\n",
      " |-- song: string (nullable = true)\n",
      " |-- status: long (nullable = true)\n",
      " |-- ts: long (nullable = true)\n",
      " |-- userAgent: string (nullable = true)\n",
      " |-- userId: string (nullable = true)\n",
      " |-- start_time: timestamp (nullable = true)\n",
      " |-- song_id: string (nullable = true)\n",
      " |-- title: string (nullable = true)\n",
      " |-- artist_id: string (nullable = true)\n",
      " |-- name: string (nullable = true)"
     ]
    }
   ],
   "source": [
    "# select specific columns to skip ambiguous ones\n",
    "df = df.join(songs_table.select('song_id', 'title'), (df.song == songs_table.title)) \\\n",
    "       .join(artists_table.select('artist_id', 'name'), (df.artist == artists_table.name))\n",
    "\n",
    "df.printSchema()"
   ]
  },
  {
   "cell_type": "code",
   "execution_count": 18,
   "metadata": {
    "editable": true
   },
   "outputs": [
    {
     "data": {
      "application/vnd.jupyter.widget-view+json": {
       "model_id": "9e38f0d9f5504e698bed1c35d2608013",
       "version_major": 2,
       "version_minor": 0
      },
      "text/plain": [
       "VBox()"
      ]
     },
     "metadata": {},
     "output_type": "display_data"
    },
    {
     "data": {
      "application/vnd.jupyter.widget-view+json": {
       "model_id": "",
       "version_major": 2,
       "version_minor": 0
      },
      "text/plain": [
       "FloatProgress(value=0.0, bar_style='info', description='Progress:', layout=Layout(height='25px', width='50%'),…"
      ]
     },
     "metadata": {},
     "output_type": "display_data"
    },
    {
     "name": "stdout",
     "output_type": "stream",
     "text": [
      "Songplays count: 638\n",
      "+--------------------+-------+-----+------------------+------------------+----------+--------------------+--------------------+-----------+-----+----+\n",
      "|          start_time|user_id|level|           song_id|         artist_id|session_id|            location|          user_agent|songplay_id|month|year|\n",
      "+--------------------+-------+-----+------------------+------------------+----------+--------------------+--------------------+-----------+-----+----+\n",
      "|2018-11-12 23:13:...|     80| paid|SOSQIHH12A8C13370B|ARH6W4X1187B99274F|       481|Portland-South Po...|\"Mozilla/5.0 (Mac...| 8589934592|   11|2018|\n",
      "|2018-11-14 12:18:...|     29| paid|SOFDYYA12A58A78E73|AR8W8P31187B9A4063|       559|Atlanta-Sandy Spr...|\"Mozilla/5.0 (Mac...| 8589934593|   11|2018|\n",
      "|2018-11-18 19:24:...|     29| paid|SOCOWCL12A8C1415F7|AR8K3HD1187B9B9CA9|       589|Atlanta-Sandy Spr...|\"Mozilla/5.0 (Mac...| 8589934594|   11|2018|\n",
      "|2018-11-23 16:13:...|     58| paid|SOJJYDE12AF729FC16|ARG72Q21187FB36243|       852|Augusta-Richmond ...|\"Mozilla/5.0 (Win...| 8589934595|   11|2018|\n",
      "|2018-11-14 17:48:...|     80| paid|SOTJXIH12A6D228208|ARG85O51187B99CC1D|       574|Portland-South Po...|\"Mozilla/5.0 (Mac...|17179869184|   11|2018|\n",
      "+--------------------+-------+-----+------------------+------------------+----------+--------------------+--------------------+-----------+-----+----+\n",
      "only showing top 5 rows"
     ]
    }
   ],
   "source": [
    "# songplay_id will be an autoincrementing column\n",
    "# year and month will be added based on start_time\n",
    "songplays_cols = ['start_time',\n",
    "                  'userId as user_id',\n",
    "                  'level',\n",
    "                  'song_id',\n",
    "                  'artist_id',\n",
    "                  'sessionId as session_id',\n",
    "                  'location',\n",
    "                  'userAgent as user_agent']\n",
    "\n",
    "songplays_table = df.selectExpr(songplays_cols).dropDuplicates(['start_time', 'user_id', 'session_id']) \\\n",
    "                    .withColumn('songplay_id', monotonically_increasing_id()) \\\n",
    "                    .withColumn('month', month('start_time')) \\\n",
    "                    .withColumn('year', year('start_time')) \\\n",
    "                    .repartition('year', 'month')\n",
    "\n",
    "print('Songplays count: {}'.format(songplays_table.count()))\n",
    "songplays_table.show(5)"
   ]
  },
  {
   "cell_type": "code",
   "execution_count": 19,
   "metadata": {
    "editable": true
   },
   "outputs": [
    {
     "data": {
      "application/vnd.jupyter.widget-view+json": {
       "model_id": "bad113fe5bb144e7b16afa955a9b2f80",
       "version_major": 2,
       "version_minor": 0
      },
      "text/plain": [
       "VBox()"
      ]
     },
     "metadata": {},
     "output_type": "display_data"
    },
    {
     "data": {
      "application/vnd.jupyter.widget-view+json": {
       "model_id": "",
       "version_major": 2,
       "version_minor": 0
      },
      "text/plain": [
       "FloatProgress(value=0.0, bar_style='info', description='Progress:', layout=Layout(height='25px', width='50%'),…"
      ]
     },
     "metadata": {},
     "output_type": "display_data"
    }
   ],
   "source": [
    "songplays_table.write.partitionBy('year', 'month').parquet(output_data + 'songplays/') #.limit(5)"
   ]
  },
  {
   "cell_type": "code",
   "execution_count": null,
   "metadata": {
    "editable": true
   },
   "outputs": [],
   "source": []
  }
 ],
 "metadata": {
  "kernelspec": {
   "display_name": "PySpark",
   "language": "",
   "name": "pysparkkernel"
  },
  "language_info": {
   "codemirror_mode": {
    "name": "python",
    "version": 2
   },
   "mimetype": "text/x-python",
   "name": "pyspark",
   "pygments_lexer": "python2"
  }
 },
 "nbformat": 4,
 "nbformat_minor": 4
}
