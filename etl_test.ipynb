{
 "cells": [
  {
   "cell_type": "code",
   "execution_count": 1,
   "metadata": {
    "editable": true
   },
   "outputs": [],
   "source": [
    "import configparser\n",
    "import os\n",
    "from pyspark.sql import SparkSession\n",
    "from pyspark.sql.functions import udf, col, monotonically_increasing_id\n",
    "from pyspark.sql.functions import hour, dayofmonth, weekofyear, month, year, date_format\n",
    "from pyspark.sql.types import StructType, StructField, StringType, DoubleType, IntegerType, DateType, TimestampType\n",
    "from datetime import datetime as dt"
   ]
  },
  {
   "cell_type": "markdown",
   "metadata": {
    "editable": true
   },
   "source": [
    "#### Setup Spark Session"
   ]
  },
  {
   "cell_type": "code",
   "execution_count": 4,
   "metadata": {
    "editable": true
   },
   "outputs": [],
   "source": [
    "cfg = configparser.ConfigParser()\n",
    "cfg.read('dl.cfg')\n",
    "\n",
    "os.environ['AWS_ACCESS_KEY_ID'] = cfg.get('AWS', 'AWS_KEY')\n",
    "os.environ['AWS_SECRET_ACCESS_KEY'] = cfg.get('AWS', 'AWS_SECRET')\n",
    "input_data = cfg.get('DATA', 'DATA_INPUT')\n",
    "output_data = cfg.get('DATA', 'DATA_OUTPUT')"
   ]
  },
  {
   "cell_type": "code",
   "execution_count": 3,
   "metadata": {
    "editable": true
   },
   "outputs": [
    {
     "name": "stdout",
     "output_type": "stream",
     "text": [
      "CPU times: user 70.4 ms, sys: 18.5 ms, total: 88.9 ms\n",
      "Wall time: 13.6 s\n"
     ]
    }
   ],
   "source": [
    "%%time\n",
    "spark = SparkSession.builder.config('spark.jars.packages', 'org.apache.hadoop:hadoop-aws:2.7.5').getOrCreate()"
   ]
  },
  {
   "cell_type": "markdown",
   "metadata": {
    "editable": true
   },
   "source": [
    "#### Process Song Data\n",
    "The files are partitioned by the first three letters of each song's track ID."
   ]
  },
  {
   "cell_type": "code",
   "execution_count": 5,
   "metadata": {
    "editable": true
   },
   "outputs": [],
   "source": [
    "# get filepath to song data file\n",
    "song_data = input_data + 'song_data/*/*/*/*.json'\n",
    "\n",
    "# define schema for song data\n",
    "song_schema = StructType([\n",
    "    StructField('artist_id', StringType()),\n",
    "    StructField('artist_name', StringType()),\n",
    "    StructField('artist_location', StringType()),\n",
    "    StructField('artist_latitude', DoubleType()),\n",
    "    StructField('artist_longitude', DoubleType()),\n",
    "    StructField('duration', DoubleType()),\n",
    "    StructField('num_songs', IntegerType()),\n",
    "    StructField('title', StringType()),\n",
    "    StructField('year', IntegerType())\n",
    "])"
   ]
  },
  {
   "cell_type": "code",
   "execution_count": 6,
   "metadata": {
    "editable": true
   },
   "outputs": [
    {
     "name": "stdout",
     "output_type": "stream",
     "text": [
      "Songs records: 71\n",
      "+------------------+--------------------+-----------------+---------------+----------------+---------+---------+--------------------+----+\n",
      "|         artist_id|         artist_name|  artist_location|artist_latitude|artist_longitude| duration|num_songs|               title|year|\n",
      "+------------------+--------------------+-----------------+---------------+----------------+---------+---------+--------------------+----+\n",
      "|ARDR4AC1187FB371A1|Montserrat Caball...|                 |           null|            null|511.16363|        1|Sono andati? Fing...|   0|\n",
      "|AREBBGV1187FB523D2|Mike Jones (Featu...|      Houston, TX|           null|            null|173.66159|        1|Laws Patrolling (...|   0|\n",
      "|ARMAC4T1187FB3FA4C|The Dillinger Esc...|Morris Plains, NJ|       40.82624|       -74.47995|207.77751|        1|Setting Fire to S...|2004|\n",
      "|ARPBNLO1187FB3D52F|            Tiny Tim|     New York, NY|       40.71455|       -74.00712| 43.36281|        1|I Hold Your Hand ...|2000|\n",
      "|ARDNS031187B9924F0|          Tim Wilson|          Georgia|       32.67828|       -83.22295|186.48771|        1|I Think My Wife I...|2005|\n",
      "+------------------+--------------------+-----------------+---------------+----------------+---------+---------+--------------------+----+\n",
      "only showing top 5 rows\n",
      "\n",
      "CPU times: user 8.02 ms, sys: 3.93 ms, total: 11.9 ms\n",
      "Wall time: 32.5 s\n"
     ]
    }
   ],
   "source": [
    "%%time\n",
    "df = spark.read.json(song_data, schema = song_schema)\n",
    "df.cache()\n",
    "print('Songs records: {}'.format(df.count()))\n",
    "df.show(5)"
   ]
  },
  {
   "cell_type": "markdown",
   "metadata": {
    "editable": true
   },
   "source": [
    "Songs Table, with files partitioned by year and then artist."
   ]
  },
  {
   "cell_type": "code",
   "execution_count": 7,
   "metadata": {
    "editable": true
   },
   "outputs": [
    {
     "name": "stdout",
     "output_type": "stream",
     "text": [
      "Songs count: 71\n",
      "+--------------------+------------------+----+---------+-----------+\n",
      "|               title|         artist_id|year| duration|    song_id|\n",
      "+--------------------+------------------+----+---------+-----------+\n",
      "|               Intro|AR558FS1187FB45658|2003| 75.67628|51539607552|\n",
      "|Setting Fire to S...|ARMAC4T1187FB3FA4C|2004|207.77751|68719476736|\n",
      "|Kutt Free (DJ Vol...|ARNNKDK1187B98BBD5|   0|407.37914|68719476737|\n",
      "|Get Your Head Stu...|AREDL271187FB40F44|   0| 45.66159|77309411328|\n",
      "|     Amor De Cabaret|ARKRRTF1187B9984DA|   0|177.47546|94489280512|\n",
      "+--------------------+------------------+----+---------+-----------+\n",
      "only showing top 5 rows\n",
      "\n",
      "CPU times: user 2.94 ms, sys: 4.33 ms, total: 7.27 ms\n",
      "Wall time: 5.12 s\n"
     ]
    }
   ],
   "source": [
    "%%time\n",
    "# song_id will be an autoincrementing column\n",
    "songs_cols = ['title', 'artist_id', 'year', 'duration']\n",
    "songs_table = df.select(songs_cols).dropDuplicates().withColumn('song_id', monotonically_increasing_id())\n",
    "print('Songs count: {}'.format(songs_table.count()))\n",
    "songs_table.show(5)"
   ]
  },
  {
   "cell_type": "code",
   "execution_count": 8,
   "metadata": {
    "editable": true
   },
   "outputs": [
    {
     "name": "stdout",
     "output_type": "stream",
     "text": [
      "CPU times: user 80.9 ms, sys: 25.6 ms, total: 106 ms\n",
      "Wall time: 10min 57s\n"
     ]
    }
   ],
   "source": [
    "%%time\n",
    "songs_table.write.partitionBy('year', 'artist_id').parquet(output_data + 'songs/') #.limit(5)"
   ]
  },
  {
   "cell_type": "markdown",
   "metadata": {
    "editable": true
   },
   "source": [
    "Artists Table"
   ]
  },
  {
   "cell_type": "code",
   "execution_count": 9,
   "metadata": {
    "editable": true
   },
   "outputs": [
    {
     "name": "stdout",
     "output_type": "stream",
     "text": [
      "Artists count: 69\n",
      "+------------------+---------------+---------------+--------+----------+\n",
      "|         artist_id|           name|       location|latitude| longitude|\n",
      "+------------------+---------------+---------------+--------+----------+\n",
      "|ARPBNLO1187FB3D52F|       Tiny Tim|   New York, NY|40.71455| -74.00712|\n",
      "|ARXR32B1187FB57099|            Gob|               |    null|      null|\n",
      "|AROGWRA122988FEE45|Christos Dantis|               |    null|      null|\n",
      "|ARBGXIG122988F409D|     Steel Rain|California - SF|37.77916|-122.42005|\n",
      "|AREVWGE1187B9B890A|     Bitter End|      Noci (BA)| -13.442|  -41.9952|\n",
      "+------------------+---------------+---------------+--------+----------+\n",
      "only showing top 5 rows\n",
      "\n",
      "CPU times: user 5.11 ms, sys: 229 µs, total: 5.34 ms\n",
      "Wall time: 3.3 s\n"
     ]
    }
   ],
   "source": [
    "%%time\n",
    "artists_cols = ['artist_id',\n",
    "                'artist_name as name',\n",
    "                'artist_location as location',\n",
    "                'artist_latitude as latitude',\n",
    "                'artist_longitude as longitude']\n",
    "\n",
    "# using selectExpr() because of 'as' column aliases present\n",
    "artists_table = df.selectExpr(artists_cols).dropDuplicates()\n",
    "print('Artists count: {}'.format(artists_table.count()))\n",
    "artists_table.show(5)"
   ]
  },
  {
   "cell_type": "code",
   "execution_count": 10,
   "metadata": {
    "editable": true
   },
   "outputs": [
    {
     "name": "stdout",
     "output_type": "stream",
     "text": [
      "CPU times: user 57.1 ms, sys: 27.9 ms, total: 85 ms\n",
      "Wall time: 8min 52s\n"
     ]
    }
   ],
   "source": [
    "%%time\n",
    "artists_table.write.parquet(output_data + 'artists/') #.limit(5)"
   ]
  },
  {
   "cell_type": "markdown",
   "metadata": {
    "editable": true
   },
   "source": [
    "#### Process Log Data\n",
    "The log files in the dataset you'll be working with are partitioned by year and month."
   ]
  },
  {
   "cell_type": "code",
   "execution_count": 36,
   "metadata": {
    "editable": true
   },
   "outputs": [
    {
     "name": "stdout",
     "output_type": "stream",
     "text": [
      "'NextSong' events count: 6820\n",
      "root\n",
      " |-- artist: string (nullable = true)\n",
      " |-- auth: string (nullable = true)\n",
      " |-- firstName: string (nullable = true)\n",
      " |-- gender: string (nullable = true)\n",
      " |-- itemInSession: long (nullable = true)\n",
      " |-- lastName: string (nullable = true)\n",
      " |-- length: double (nullable = true)\n",
      " |-- level: string (nullable = true)\n",
      " |-- location: string (nullable = true)\n",
      " |-- method: string (nullable = true)\n",
      " |-- page: string (nullable = true)\n",
      " |-- registration: double (nullable = true)\n",
      " |-- sessionId: long (nullable = true)\n",
      " |-- song: string (nullable = true)\n",
      " |-- status: long (nullable = true)\n",
      " |-- ts: long (nullable = true)\n",
      " |-- userAgent: string (nullable = true)\n",
      " |-- userId: string (nullable = true)\n",
      "\n",
      "CPU times: user 1.58 ms, sys: 3.59 ms, total: 5.17 ms\n",
      "Wall time: 12.9 s\n"
     ]
    }
   ],
   "source": [
    "%%time\n",
    "log_data = input_data + 'log-data/*/*/*.json'\n",
    "df = spark.read.json(log_data).where(\"page = 'NextSong'\")\n",
    "df.cache()\n",
    "print(\"'NextSong' events count: {}\".format(df.count()))\n",
    "df.printSchema()"
   ]
  },
  {
   "cell_type": "markdown",
   "metadata": {
    "editable": true
   },
   "source": [
    "Users Table"
   ]
  },
  {
   "cell_type": "code",
   "execution_count": 12,
   "metadata": {
    "editable": true
   },
   "outputs": [
    {
     "name": "stdout",
     "output_type": "stream",
     "text": [
      "Users count: 104\n",
      "+-------+----------+---------+------+-----+\n",
      "|user_id|first_name|last_name|gender|level|\n",
      "+-------+----------+---------+------+-----+\n",
      "|     26|      Ryan|    Smith|     M| free|\n",
      "|      7|    Adelyn|   Jordan|     F| free|\n",
      "|     71|    Ayleen|     Wise|     F| free|\n",
      "|     81|    Sienna|    Colon|     F| free|\n",
      "|     87|    Dustin|      Lee|     M| free|\n",
      "+-------+----------+---------+------+-----+\n",
      "only showing top 5 rows\n",
      "\n",
      "CPU times: user 4.38 ms, sys: 720 µs, total: 5.1 ms\n",
      "Wall time: 2.77 s\n"
     ]
    }
   ],
   "source": [
    "%%time\n",
    "users_cols = ['userId as user_id', 'firstName as first_name', 'lastName as last_name', 'gender', 'level']\n",
    "users_table = df.selectExpr(users_cols).dropDuplicates()\n",
    "print('Users count: {}'.format(users_table.count()))\n",
    "users_table.show(5)"
   ]
  },
  {
   "cell_type": "code",
   "execution_count": 13,
   "metadata": {
    "editable": true
   },
   "outputs": [
    {
     "name": "stdout",
     "output_type": "stream",
     "text": [
      "CPU times: user 106 ms, sys: 9.4 ms, total: 115 ms\n",
      "Wall time: 11min 57s\n"
     ]
    }
   ],
   "source": [
    "%%time\n",
    "users_table.write.parquet(output_data + 'users/') #.limit(5)"
   ]
  },
  {
   "cell_type": "markdown",
   "metadata": {
    "editable": true
   },
   "source": [
    "Time Table, with files partitioned by year and month."
   ]
  },
  {
   "cell_type": "code",
   "execution_count": 37,
   "metadata": {
    "editable": true
   },
   "outputs": [
    {
     "name": "stdout",
     "output_type": "stream",
     "text": [
      "Timestamps count: 6813\n",
      "+--------------------+----+---+----+-----+----+-------+\n",
      "|          start_time|hour|day|week|month|year|weekday|\n",
      "+--------------------+----+---+----+-----+----+-------+\n",
      "|2018-11-21 06:18:...|   6| 21|  47|   11|2018|    Wed|\n",
      "|2018-11-21 18:49:...|  18| 21|  47|   11|2018|    Wed|\n",
      "|2018-11-14 15:20:...|  15| 14|  46|   11|2018|    Wed|\n",
      "|2018-11-05 16:31:...|  16|  5|  45|   11|2018|    Mon|\n",
      "|2018-11-13 18:00:...|  18| 13|  46|   11|2018|    Tue|\n",
      "+--------------------+----+---+----+-----+----+-------+\n",
      "only showing top 5 rows\n",
      "\n",
      "CPU times: user 38.7 ms, sys: 13.6 ms, total: 52.4 ms\n",
      "Wall time: 2.61 s\n"
     ]
    }
   ],
   "source": [
    "%%time\n",
    "to_timestamp = udf(lambda x : dt.utcfromtimestamp(x / 1e3), TimestampType())\n",
    "df = df.withColumn('start_time', to_timestamp('ts'))\n",
    "\n",
    "time_table = df.select('start_time').dropDuplicates() \\\n",
    "    .withColumn('hour', hour('start_time')) \\\n",
    "    .withColumn('day',  dayofmonth('start_time')) \\\n",
    "    .withColumn('week', weekofyear('start_time')) \\\n",
    "    .withColumn('month', month('start_time')) \\\n",
    "    .withColumn('year', year('start_time')) \\\n",
    "    .withColumn('weekday', date_format('start_time', 'E')) # https://stackoverflow.com/a/12781297\n",
    "print('Timestamps count: {}'.format(time_table.count()))\n",
    "time_table.show(5)"
   ]
  },
  {
   "cell_type": "code",
   "execution_count": 15,
   "metadata": {
    "editable": true
   },
   "outputs": [
    {
     "name": "stdout",
     "output_type": "stream",
     "text": [
      "CPU times: user 159 ms, sys: 60.6 ms, total: 219 ms\n",
      "Wall time: 33min 40s\n"
     ]
    }
   ],
   "source": [
    "%%time\n",
    "time_table.write.partitionBy('year', 'month').parquet(output_data + 'time/') #.limit(5)"
   ]
  },
  {
   "cell_type": "markdown",
   "metadata": {
    "editable": true
   },
   "source": [
    "Songplays Table, with files partitioned by year and month."
   ]
  },
  {
   "cell_type": "code",
   "execution_count": 38,
   "metadata": {
    "editable": true
   },
   "outputs": [
    {
     "name": "stdout",
     "output_type": "stream",
     "text": [
      "root\n",
      " |-- artist: string (nullable = true)\n",
      " |-- auth: string (nullable = true)\n",
      " |-- firstName: string (nullable = true)\n",
      " |-- gender: string (nullable = true)\n",
      " |-- itemInSession: long (nullable = true)\n",
      " |-- lastName: string (nullable = true)\n",
      " |-- length: double (nullable = true)\n",
      " |-- level: string (nullable = true)\n",
      " |-- location: string (nullable = true)\n",
      " |-- method: string (nullable = true)\n",
      " |-- page: string (nullable = true)\n",
      " |-- registration: double (nullable = true)\n",
      " |-- sessionId: long (nullable = true)\n",
      " |-- song: string (nullable = true)\n",
      " |-- status: long (nullable = true)\n",
      " |-- ts: long (nullable = true)\n",
      " |-- userAgent: string (nullable = true)\n",
      " |-- userId: string (nullable = true)\n",
      " |-- start_time: timestamp (nullable = true)\n",
      " |-- song_id: long (nullable = false)\n",
      " |-- title: string (nullable = true)\n",
      " |-- artist_id: string (nullable = true)\n",
      " |-- name: string (nullable = true)\n",
      "\n",
      "CPU times: user 6.99 ms, sys: 0 ns, total: 6.99 ms\n",
      "Wall time: 51.4 ms\n"
     ]
    }
   ],
   "source": [
    "%%time\n",
    "# select specific columns to skip ambiguous ones\n",
    "df = df.join(songs_table.select('song_id', 'title'), (df.song == songs_table.title)) \\\n",
    "       .join(artists_table.select('artist_id', 'name'), (df.artist == artists_table.name))\n",
    "\n",
    "df.printSchema()"
   ]
  },
  {
   "cell_type": "code",
   "execution_count": 39,
   "metadata": {
    "editable": true
   },
   "outputs": [
    {
     "name": "stdout",
     "output_type": "stream",
     "text": [
      "Songplays count: 1\n",
      "+--------------------+-------+-----+-------------+------------------+----------+--------------------+--------------------+------------+-----+----+\n",
      "|          start_time|user_id|level|      song_id|         artist_id|session_id|            location|          user_agent| songplay_id|month|year|\n",
      "+--------------------+-------+-----+-------------+------------------+----------+--------------------+--------------------+------------+-----+----+\n",
      "|2018-11-21 21:56:...|     15| paid|1348619730944|AR5KOSW1187FB35FF4|       818|Chicago-Napervill...|\"Mozilla/5.0 (X11...|188978561024|   11|2018|\n",
      "+--------------------+-------+-----+-------------+------------------+----------+--------------------+--------------------+------------+-----+----+\n",
      "\n",
      "CPU times: user 44.6 ms, sys: 16.3 ms, total: 60.8 ms\n",
      "Wall time: 10.2 s\n"
     ]
    }
   ],
   "source": [
    "%%time\n",
    "# songplay_id will be an autoincrementing column\n",
    "# year and month will be added based on start_time\n",
    "songplays_cols = ['start_time',\n",
    "                  'userId as user_id',\n",
    "                  'level',\n",
    "                  'song_id',\n",
    "                  'artist_id',\n",
    "                  'sessionId as session_id',\n",
    "                  'location',\n",
    "                  'userAgent as user_agent']\n",
    "\n",
    "songplays_table = df.selectExpr(songplays_cols).dropDuplicates() \\\n",
    "                    .withColumn('songplay_id', monotonically_increasing_id()) \\\n",
    "                    .withColumn('month', month('start_time')) \\\n",
    "                    .withColumn('year', year('start_time'))\n",
    "\n",
    "print('Songplays count: {}'.format(songplays_table.count()))\n",
    "songplays_table.show(5)"
   ]
  },
  {
   "cell_type": "code",
   "execution_count": 40,
   "metadata": {
    "editable": true
   },
   "outputs": [
    {
     "name": "stdout",
     "output_type": "stream",
     "text": [
      "CPU times: user 25.2 ms, sys: 13.9 ms, total: 39.2 ms\n",
      "Wall time: 1min 3s\n"
     ]
    }
   ],
   "source": [
    "%%time\n",
    "songplays_table.write.partitionBy('year', 'month').parquet(output_data + 'songplays/')"
   ]
  },
  {
   "cell_type": "code",
   "execution_count": null,
   "metadata": {
    "editable": true
   },
   "outputs": [],
   "source": []
  }
 ],
 "metadata": {
  "kernelspec": {
   "display_name": "Python 3",
   "language": "python",
   "name": "python3"
  },
  "language_info": {
   "codemirror_mode": {
    "name": "ipython",
    "version": 3
   },
   "file_extension": ".py",
   "mimetype": "text/x-python",
   "name": "python",
   "nbconvert_exporter": "python",
   "pygments_lexer": "ipython3",
   "version": "3.6.3"
  }
 },
 "nbformat": 4,
 "nbformat_minor": 4
}
