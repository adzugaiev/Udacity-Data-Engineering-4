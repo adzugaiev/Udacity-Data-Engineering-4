{
 "cells": [
  {
   "cell_type": "markdown",
   "metadata": {},
   "source": [
    "#### Test running the complete ETL script, etl.py"
   ]
  },
  {
   "cell_type": "code",
   "execution_count": 1,
   "metadata": {},
   "outputs": [
    {
     "data": {
      "application/vnd.jupyter.widget-view+json": {
       "model_id": "bc7313002219424fa199c986ec5b25bb",
       "version_major": 2,
       "version_minor": 0
      },
      "text/plain": [
       "VBox()"
      ]
     },
     "metadata": {},
     "output_type": "display_data"
    },
    {
     "name": "stdout",
     "output_type": "stream",
     "text": [
      "Starting Spark application\n"
     ]
    },
    {
     "data": {
      "text/html": [
       "<table>\n",
       "<tr><th>ID</th><th>YARN Application ID</th><th>Kind</th><th>State</th><th>Spark UI</th><th>Driver log</th><th>Current session?</th></tr><tr><td>2</td><td>application_1612644015825_0003</td><td>pyspark</td><td>idle</td><td><a target=\"_blank\" href=\"http://ip-172-31-21-237.us-west-2.compute.internal:20888/proxy/application_1612644015825_0003/\">Link</a></td><td><a target=\"_blank\" href=\"http://ip-172-31-24-168.us-west-2.compute.internal:8042/node/containerlogs/container_1612644015825_0003_01_000001/livy\">Link</a></td><td>✔</td></tr></table>"
      ],
      "text/plain": [
       "<IPython.core.display.HTML object>"
      ]
     },
     "metadata": {},
     "output_type": "display_data"
    },
    {
     "data": {
      "application/vnd.jupyter.widget-view+json": {
       "model_id": "",
       "version_major": 2,
       "version_minor": 0
      },
      "text/plain": [
       "FloatProgress(value=0.0, bar_style='info', description='Progress:', layout=Layout(height='25px', width='50%'),…"
      ]
     },
     "metadata": {},
     "output_type": "display_data"
    },
    {
     "name": "stdout",
     "output_type": "stream",
     "text": [
      "SparkSession available as 'spark'.\n"
     ]
    },
    {
     "data": {
      "application/vnd.jupyter.widget-view+json": {
       "model_id": "",
       "version_major": 2,
       "version_minor": 0
      },
      "text/plain": [
       "FloatProgress(value=0.0, bar_style='info', description='Progress:', layout=Layout(height='25px', width='50%'),…"
      ]
     },
     "metadata": {},
     "output_type": "display_data"
    }
   ],
   "source": [
    "sc.addFile('s3a://adzugaiev-sparkify/input/etl.py')\n",
    "import etl"
   ]
  },
  {
   "cell_type": "code",
   "execution_count": 2,
   "metadata": {},
   "outputs": [
    {
     "data": {
      "application/vnd.jupyter.widget-view+json": {
       "model_id": "4f63206654de4384bd2941ced45c1ac7",
       "version_major": 2,
       "version_minor": 0
      },
      "text/plain": [
       "VBox()"
      ]
     },
     "metadata": {},
     "output_type": "display_data"
    },
    {
     "data": {
      "application/vnd.jupyter.widget-view+json": {
       "model_id": "",
       "version_major": 2,
       "version_minor": 0
      },
      "text/plain": [
       "FloatProgress(value=0.0, bar_style='info', description='Progress:', layout=Layout(height='25px', width='50%'),…"
      ]
     },
     "metadata": {},
     "output_type": "display_data"
    },
    {
     "name": "stdout",
     "output_type": "stream",
     "text": [
      "ETL start.\n",
      "ETL Spark session open.\n",
      "ETL installs boto3...\n",
      "Collecting boto3\n",
      "  Using cached boto3-1.17.3-py2.py3-none-any.whl (130 kB)\n",
      "Collecting s3transfer<0.4.0,>=0.3.0\n",
      "  Using cached s3transfer-0.3.4-py2.py3-none-any.whl (69 kB)\n",
      "Requirement already satisfied: jmespath<1.0.0,>=0.7.1 in /usr/local/lib/python3.6/site-packages (from boto3) (0.9.4)\n",
      "Collecting botocore<1.21.0,>=1.20.3\n",
      "  Using cached botocore-1.20.3-py2.py3-none-any.whl (7.2 MB)\n",
      "Collecting urllib3<1.27,>=1.25.4\n",
      "  Using cached urllib3-1.26.3-py2.py3-none-any.whl (137 kB)\n",
      "Collecting python-dateutil<3.0.0,>=2.1\n",
      "  Using cached python_dateutil-2.8.1-py2.py3-none-any.whl (227 kB)\n",
      "Requirement already satisfied: six>=1.5 in /usr/local/lib/python3.6/site-packages (from python-dateutil<3.0.0,>=2.1->botocore<1.21.0,>=1.20.3->boto3) (1.13.0)\n",
      "Installing collected packages: urllib3, python-dateutil, botocore, s3transfer, boto3\n",
      "Successfully installed boto3-1.17.3 botocore-1.20.3 python-dateutil-2.8.1 s3transfer-0.3.4 urllib3-1.26.3\n",
      "\n",
      "Removing the previous output data from the bucket.\n",
      "Removed 14 files.\n",
      "Reading songs data from: s3a://udacity-dend/song_data/*/*/*/*.json\n",
      "Songs records read: 14896\n",
      "Songs table ingesting.\n",
      "Songs count: 14896\n",
      "Songs table writing to parquet files partitioned by year and artist.\n",
      "Songs location: s3a://adzugaiev-sparkify/output/songs/\n",
      "Songs write limit: 5\n",
      "Artists table ingesting.\n",
      "Artists count: 9993\n",
      "Artists table writing to parquet files.\n",
      "Artists location: s3a://adzugaiev-sparkify/output/artists/\n",
      "Artists write limit: 5\n",
      "Reading log data from: s3a://udacity-dend/log-data/*/*/*.json\n",
      "'NextSong' events count: 6820\n",
      "Users table ingesting.\n",
      "Users count: 96\n",
      "Users table writing to parquet files.\n",
      "Users location: s3a://adzugaiev-sparkify/output/users/\n",
      "Users write limit: 5\n",
      "Time table ingesting.\n",
      "Time stamps count: 6813\n",
      "Time table writing to parquet files partitioned by year and month.\n",
      "Time location: s3a://adzugaiev-sparkify/output/time/\n",
      "Time write limit: 5\n",
      "Songplays table ingesting.\n",
      "Songplays count: 638\n",
      "Songplays table writing to parquet files partitioned by year and month.\n",
      "Songplays location: s3a://adzugaiev-sparkify/output/songplays/\n",
      "Songplays write limit: 5\n",
      "ETL complete."
     ]
    }
   ],
   "source": [
    "etl.main()"
   ]
  }
 ],
 "metadata": {
  "kernelspec": {
   "display_name": "PySpark",
   "language": "",
   "name": "pysparkkernel"
  },
  "language_info": {
   "codemirror_mode": {
    "name": "python",
    "version": 2
   },
   "mimetype": "text/x-python",
   "name": "pyspark",
   "pygments_lexer": "python2"
  }
 },
 "nbformat": 4,
 "nbformat_minor": 4
}
