{
 "cells": [
  {
   "cell_type": "code",
   "execution_count": 1,
   "metadata": {
    "editable": true
   },
   "outputs": [
    {
     "data": {
      "application/vnd.jupyter.widget-view+json": {
       "model_id": "c90e7c3c9bd34f43a5d5e119ca66ba8b",
       "version_major": 2,
       "version_minor": 0
      },
      "text/plain": [
       "VBox()"
      ]
     },
     "metadata": {},
     "output_type": "display_data"
    },
    {
     "name": "stdout",
     "output_type": "stream",
     "text": [
      "Starting Spark application\n"
     ]
    },
    {
     "data": {
      "text/html": [
       "<table>\n",
       "<tr><th>ID</th><th>YARN Application ID</th><th>Kind</th><th>State</th><th>Spark UI</th><th>Driver log</th><th>Current session?</th></tr><tr><td>2</td><td>application_1612034773106_0003</td><td>pyspark</td><td>idle</td><td><a target=\"_blank\" href=\"http://ip-172-31-53-47.us-west-2.compute.internal:20888/proxy/application_1612034773106_0003/\">Link</a></td><td><a target=\"_blank\" href=\"http://ip-172-31-58-253.us-west-2.compute.internal:8042/node/containerlogs/container_1612034773106_0003_01_000001/livy\">Link</a></td><td>✔</td></tr></table>"
      ],
      "text/plain": [
       "<IPython.core.display.HTML object>"
      ]
     },
     "metadata": {},
     "output_type": "display_data"
    },
    {
     "data": {
      "application/vnd.jupyter.widget-view+json": {
       "model_id": "",
       "version_major": 2,
       "version_minor": 0
      },
      "text/plain": [
       "FloatProgress(value=0.0, bar_style='info', description='Progress:', layout=Layout(height='25px', width='50%'),…"
      ]
     },
     "metadata": {},
     "output_type": "display_data"
    },
    {
     "name": "stdout",
     "output_type": "stream",
     "text": [
      "SparkSession available as 'spark'.\n"
     ]
    },
    {
     "data": {
      "application/vnd.jupyter.widget-view+json": {
       "model_id": "",
       "version_major": 2,
       "version_minor": 0
      },
      "text/plain": [
       "FloatProgress(value=0.0, bar_style='info', description='Progress:', layout=Layout(height='25px', width='50%'),…"
      ]
     },
     "metadata": {},
     "output_type": "display_data"
    }
   ],
   "source": [
    "import configparser\n",
    "import os\n",
    "from pyspark.sql import SparkSession\n",
    "from pyspark.sql.functions import udf, col, count, monotonically_increasing_id\n",
    "from pyspark.sql.functions import hour, dayofmonth, weekofyear, month, year, date_format\n",
    "from pyspark.sql.types import StructType, StructField, StringType, DoubleType, IntegerType, DateType, TimestampType\n",
    "from datetime import datetime as dt"
   ]
  },
  {
   "cell_type": "markdown",
   "metadata": {},
   "source": [
    "### Populate the staging tables\n",
    "The log files are partitioned by year and month."
   ]
  },
  {
   "cell_type": "code",
   "execution_count": 2,
   "metadata": {},
   "outputs": [
    {
     "data": {
      "application/vnd.jupyter.widget-view+json": {
       "model_id": "09575066129f435ea12bbbfdae793403",
       "version_major": 2,
       "version_minor": 0
      },
      "text/plain": [
       "VBox()"
      ]
     },
     "metadata": {},
     "output_type": "display_data"
    },
    {
     "data": {
      "application/vnd.jupyter.widget-view+json": {
       "model_id": "",
       "version_major": 2,
       "version_minor": 0
      },
      "text/plain": [
       "FloatProgress(value=0.0, bar_style='info', description='Progress:', layout=Layout(height='25px', width='50%'),…"
      ]
     },
     "metadata": {},
     "output_type": "display_data"
    },
    {
     "name": "stdout",
     "output_type": "stream",
     "text": [
      "Events records: 8056\n",
      "root\n",
      " |-- artist: string (nullable = true)\n",
      " |-- auth: string (nullable = true)\n",
      " |-- firstName: string (nullable = true)\n",
      " |-- gender: string (nullable = true)\n",
      " |-- itemInSession: long (nullable = true)\n",
      " |-- lastName: string (nullable = true)\n",
      " |-- length: double (nullable = true)\n",
      " |-- level: string (nullable = true)\n",
      " |-- location: string (nullable = true)\n",
      " |-- method: string (nullable = true)\n",
      " |-- page: string (nullable = true)\n",
      " |-- registration: double (nullable = true)\n",
      " |-- sessionId: long (nullable = true)\n",
      " |-- song: string (nullable = true)\n",
      " |-- status: long (nullable = true)\n",
      " |-- ts: long (nullable = true)\n",
      " |-- userAgent: string (nullable = true)\n",
      " |-- userId: string (nullable = true)"
     ]
    }
   ],
   "source": [
    "log_data = 's3a://udacity-dend/log-data/*/*/*.json'\n",
    "staging_events = spark.read.json(log_data)\n",
    "staging_events.cache()\n",
    "print('Events records: {}'.format(staging_events.count()))\n",
    "staging_events.printSchema()"
   ]
  },
  {
   "cell_type": "markdown",
   "metadata": {},
   "source": [
    "The songs files are partitioned by the first three letters of each song's track ID."
   ]
  },
  {
   "cell_type": "code",
   "execution_count": 3,
   "metadata": {},
   "outputs": [
    {
     "data": {
      "application/vnd.jupyter.widget-view+json": {
       "model_id": "e1945aeb05314be283d9e05db582ca82",
       "version_major": 2,
       "version_minor": 0
      },
      "text/plain": [
       "VBox()"
      ]
     },
     "metadata": {},
     "output_type": "display_data"
    },
    {
     "data": {
      "application/vnd.jupyter.widget-view+json": {
       "model_id": "",
       "version_major": 2,
       "version_minor": 0
      },
      "text/plain": [
       "FloatProgress(value=0.0, bar_style='info', description='Progress:', layout=Layout(height='25px', width='50%'),…"
      ]
     },
     "metadata": {},
     "output_type": "display_data"
    },
    {
     "name": "stdout",
     "output_type": "stream",
     "text": [
      "Songs records: 14896\n",
      "+------------------+------------------+--------------------+--------------------+---------------+----------------+---------+---------+--------------------+----+\n",
      "|           song_id|         artist_id|         artist_name|     artist_location|artist_latitude|artist_longitude| duration|num_songs|               title|year|\n",
      "+------------------+------------------+--------------------+--------------------+---------------+----------------+---------+---------+--------------------+----+\n",
      "|SOVIYJY12AF72A4B00|AR4T2IF1187B9ADBB7|          Billy Idol|<a href=\"http://b...|       63.96027|        10.22442|233.22077|        1|The Dead Next Doo...|1983|\n",
      "|SOVYXYL12AF72A3373|AR4T2IF1187B9ADBB7|          Billy Idol|<a href=\"http://b...|       63.96027|        10.22442|287.92118|        1|Rebel Yell (1999 ...|1983|\n",
      "|SOEPTVC12A67ADD0DA|ARQ846I1187B9A7083|Yvonne S. Moriart...|                    |           null|            null|196.04853|        1|To Zucchabar [\"Gl...|   0|\n",
      "|SOLQYSZ12AB0181F97|AR4T2IF1187B9ADBB7|          Billy Idol|<a href=\"http://b...|       63.96027|        10.22442|247.53587|        1|    Mony Mony (Live)|1987|\n",
      "|SOVPFJK12A6701CB16|AR3TZ691187FB3DBB1|Russell Watson / ...|                    |           null|            null|273.44934|        1|Barcelona - (Frie...|2000|\n",
      "+------------------+------------------+--------------------+--------------------+---------------+----------------+---------+---------+--------------------+----+\n",
      "only showing top 5 rows"
     ]
    }
   ],
   "source": [
    "song_data = 's3a://udacity-dend/song_data/*/*/*/*.json'\n",
    "\n",
    "# define schema for the song data\n",
    "song_schema = StructType([\n",
    "    StructField('song_id', StringType()),\n",
    "    StructField('artist_id', StringType()),\n",
    "    StructField('artist_name', StringType()),\n",
    "    StructField('artist_location', StringType()),\n",
    "    StructField('artist_latitude', DoubleType()),\n",
    "    StructField('artist_longitude', DoubleType()),\n",
    "    StructField('duration', DoubleType()),\n",
    "    StructField('num_songs', IntegerType()),\n",
    "    StructField('title', StringType()),\n",
    "    StructField('year', IntegerType())\n",
    "])\n",
    "\n",
    "staging_songs = spark.read.json(song_data, schema = song_schema)\n",
    "staging_songs.cache()\n",
    "print('Songs records: {}'.format(staging_songs.count()))\n",
    "staging_songs.show(5)"
   ]
  },
  {
   "cell_type": "markdown",
   "metadata": {
    "editable": true
   },
   "source": [
    "### Investigate the staging tables\n",
    "How many fact records can we potentially have in table `songplays`?"
   ]
  },
  {
   "cell_type": "code",
   "execution_count": 4,
   "metadata": {},
   "outputs": [
    {
     "data": {
      "application/vnd.jupyter.widget-view+json": {
       "model_id": "9bb9a53bee14447aae3beba766d98c04",
       "version_major": 2,
       "version_minor": 0
      },
      "text/plain": [
       "VBox()"
      ]
     },
     "metadata": {},
     "output_type": "display_data"
    },
    {
     "data": {
      "application/vnd.jupyter.widget-view+json": {
       "model_id": "",
       "version_major": 2,
       "version_minor": 0
      },
      "text/plain": [
       "FloatProgress(value=0.0, bar_style='info', description='Progress:', layout=Layout(height='25px', width='50%'),…"
      ]
     },
     "metadata": {},
     "output_type": "display_data"
    },
    {
     "name": "stdout",
     "output_type": "stream",
     "text": [
      "6820"
     ]
    }
   ],
   "source": [
    "songplays = staging_events.where('''\n",
    "    page = 'NextSong'\n",
    "    AND ts is NOT NULL\n",
    "    AND userId is NOT NULL\n",
    "    AND level  is NOT NULL\n",
    "''').dropDuplicates(['ts', 'userID'])\n",
    "songplays.cache()\n",
    "songplays.count()"
   ]
  },
  {
   "cell_type": "markdown",
   "metadata": {
    "editable": true
   },
   "source": [
    "Are there `songplays` for which no song can be matched from `staging_songs` by the artist name and song title?"
   ]
  },
  {
   "cell_type": "code",
   "execution_count": 5,
   "metadata": {},
   "outputs": [
    {
     "data": {
      "application/vnd.jupyter.widget-view+json": {
       "model_id": "66a3b39c0e57427fa4dd4a3007a63061",
       "version_major": 2,
       "version_minor": 0
      },
      "text/plain": [
       "VBox()"
      ]
     },
     "metadata": {},
     "output_type": "display_data"
    },
    {
     "data": {
      "application/vnd.jupyter.widget-view+json": {
       "model_id": "",
       "version_major": 2,
       "version_minor": 0
      },
      "text/plain": [
       "FloatProgress(value=0.0, bar_style='info', description='Progress:', layout=Layout(height='25px', width='50%'),…"
      ]
     },
     "metadata": {},
     "output_type": "display_data"
    },
    {
     "name": "stdout",
     "output_type": "stream",
     "text": [
      "6487"
     ]
    }
   ],
   "source": [
    "songplays.join(staging_songs,\n",
    "               (songplays.song == staging_songs.title) &\n",
    "               (songplays.artist == staging_songs.artist_name),\n",
    "               how = 'left_anti' # https://stackoverflow.com/a/54554055\n",
    "              ).count()"
   ]
  },
  {
   "cell_type": "markdown",
   "metadata": {
    "editable": true
   },
   "source": [
    "How many potential records in `time` dimension? The number of actual records will not exceed the number of facts in `songplays`."
   ]
  },
  {
   "cell_type": "code",
   "execution_count": 6,
   "metadata": {},
   "outputs": [
    {
     "data": {
      "application/vnd.jupyter.widget-view+json": {
       "model_id": "47dc651a2d6443a4bf782f859c2b5eb6",
       "version_major": 2,
       "version_minor": 0
      },
      "text/plain": [
       "VBox()"
      ]
     },
     "metadata": {},
     "output_type": "display_data"
    },
    {
     "data": {
      "application/vnd.jupyter.widget-view+json": {
       "model_id": "",
       "version_major": 2,
       "version_minor": 0
      },
      "text/plain": [
       "FloatProgress(value=0.0, bar_style='info', description='Progress:', layout=Layout(height='25px', width='50%'),…"
      ]
     },
     "metadata": {},
     "output_type": "display_data"
    },
    {
     "name": "stdout",
     "output_type": "stream",
     "text": [
      "6813"
     ]
    }
   ],
   "source": [
    "songplays.dropDuplicates(['ts']).count()"
   ]
  },
  {
   "cell_type": "markdown",
   "metadata": {
    "editable": true
   },
   "source": [
    "So are there multiple `NextSong` events at the same time?"
   ]
  },
  {
   "cell_type": "code",
   "execution_count": 7,
   "metadata": {},
   "outputs": [
    {
     "data": {
      "application/vnd.jupyter.widget-view+json": {
       "model_id": "eac33f3c4ce443d48ac43be83a078e17",
       "version_major": 2,
       "version_minor": 0
      },
      "text/plain": [
       "VBox()"
      ]
     },
     "metadata": {},
     "output_type": "display_data"
    },
    {
     "data": {
      "application/vnd.jupyter.widget-view+json": {
       "model_id": "",
       "version_major": 2,
       "version_minor": 0
      },
      "text/plain": [
       "FloatProgress(value=0.0, bar_style='info', description='Progress:', layout=Layout(height='25px', width='50%'),…"
      ]
     },
     "metadata": {},
     "output_type": "display_data"
    },
    {
     "name": "stdout",
     "output_type": "stream",
     "text": [
      "+-------------+-----+\n",
      "|           ts|users|\n",
      "+-------------+-----+\n",
      "|1542308104796|    2|\n",
      "|1543339730796|    2|\n",
      "|1542171216796|    2|\n",
      "|1543435163796|    2|\n",
      "|1543069787796|    2|\n",
      "|1542984111796|    2|\n",
      "|1543422975796|    2|\n",
      "+-------------+-----+"
     ]
    }
   ],
   "source": [
    "songplays.groupBy(songplays.ts) \\\n",
    "         .agg(count(songplays.userId).alias('users')) \\\n",
    "         .where(col('users') > 1) \\\n",
    "         .show()"
   ]
  },
  {
   "cell_type": "markdown",
   "metadata": {
    "editable": true
   },
   "source": [
    "How many users are there in `users` dimension?"
   ]
  },
  {
   "cell_type": "code",
   "execution_count": 8,
   "metadata": {},
   "outputs": [
    {
     "data": {
      "application/vnd.jupyter.widget-view+json": {
       "model_id": "f92f6c5d66e54c18803fbfbf40dac296",
       "version_major": 2,
       "version_minor": 0
      },
      "text/plain": [
       "VBox()"
      ]
     },
     "metadata": {},
     "output_type": "display_data"
    },
    {
     "data": {
      "application/vnd.jupyter.widget-view+json": {
       "model_id": "",
       "version_major": 2,
       "version_minor": 0
      },
      "text/plain": [
       "FloatProgress(value=0.0, bar_style='info', description='Progress:', layout=Layout(height='25px', width='50%'),…"
      ]
     },
     "metadata": {},
     "output_type": "display_data"
    },
    {
     "name": "stdout",
     "output_type": "stream",
     "text": [
      "96"
     ]
    }
   ],
   "source": [
    "songplays.dropDuplicates(['userId', 'firstName', 'lastName', 'gender']).count()"
   ]
  },
  {
   "cell_type": "markdown",
   "metadata": {
    "editable": true
   },
   "source": [
    "For how many users at least one song can be matched from `staging_songs` by the artist name and song title??"
   ]
  },
  {
   "cell_type": "code",
   "execution_count": 9,
   "metadata": {},
   "outputs": [
    {
     "data": {
      "application/vnd.jupyter.widget-view+json": {
       "model_id": "5fa763f792ec40cfb30b845417d72980",
       "version_major": 2,
       "version_minor": 0
      },
      "text/plain": [
       "VBox()"
      ]
     },
     "metadata": {},
     "output_type": "display_data"
    },
    {
     "data": {
      "application/vnd.jupyter.widget-view+json": {
       "model_id": "",
       "version_major": 2,
       "version_minor": 0
      },
      "text/plain": [
       "FloatProgress(value=0.0, bar_style='info', description='Progress:', layout=Layout(height='25px', width='50%'),…"
      ]
     },
     "metadata": {},
     "output_type": "display_data"
    },
    {
     "name": "stdout",
     "output_type": "stream",
     "text": [
      "+------+---------+--------+------+\n",
      "|userId|firstName|lastName|gender|\n",
      "+------+---------+--------+------+\n",
      "|    78|    Chloe|    Roth|     F|\n",
      "|    33|  Bronson|  Harris|     M|\n",
      "|    94|     Noah|  Chavez|     M|\n",
      "|    40|   Tucker|Garrison|     M|\n",
      "|    54|    Kaleb|    Cook|     M|\n",
      "|    23|   Morris| Gilmore|     M|\n",
      "+------+---------+--------+------+"
     ]
    }
   ],
   "source": [
    "songplays.dropDuplicates(['userId', 'firstName', 'lastName', 'gender']) \\\n",
    "         .join(staging_songs,\n",
    "               (songplays.song == staging_songs.title) &\n",
    "               (songplays.artist == staging_songs.artist_name),\n",
    "               how = 'left_semi' # https://stackoverflow.com/a/54554055\n",
    "              ) \\\n",
    "         .select(['userId', 'firstName', 'lastName', 'gender']).show()"
   ]
  },
  {
   "cell_type": "markdown",
   "metadata": {
    "editable": true
   },
   "source": [
    "How many songs are there in `songs` dimension?"
   ]
  },
  {
   "cell_type": "code",
   "execution_count": 10,
   "metadata": {},
   "outputs": [
    {
     "data": {
      "application/vnd.jupyter.widget-view+json": {
       "model_id": "7dec4579942a46a2932481fc1fbb87b8",
       "version_major": 2,
       "version_minor": 0
      },
      "text/plain": [
       "VBox()"
      ]
     },
     "metadata": {},
     "output_type": "display_data"
    },
    {
     "data": {
      "application/vnd.jupyter.widget-view+json": {
       "model_id": "",
       "version_major": 2,
       "version_minor": 0
      },
      "text/plain": [
       "FloatProgress(value=0.0, bar_style='info', description='Progress:', layout=Layout(height='25px', width='50%'),…"
      ]
     },
     "metadata": {},
     "output_type": "display_data"
    },
    {
     "name": "stdout",
     "output_type": "stream",
     "text": [
      "14896"
     ]
    }
   ],
   "source": [
    "staging_songs.dropDuplicates(['song_id']).where(\"song_id is NOT NULL\").count()"
   ]
  },
  {
   "cell_type": "markdown",
   "metadata": {
    "editable": true
   },
   "source": [
    "How many of these songs will be mentioned in `songplays`?"
   ]
  },
  {
   "cell_type": "code",
   "execution_count": 11,
   "metadata": {},
   "outputs": [
    {
     "data": {
      "application/vnd.jupyter.widget-view+json": {
       "model_id": "3536302342034d9e8939a30d3bae7ad9",
       "version_major": 2,
       "version_minor": 0
      },
      "text/plain": [
       "VBox()"
      ]
     },
     "metadata": {},
     "output_type": "display_data"
    },
    {
     "data": {
      "application/vnd.jupyter.widget-view+json": {
       "model_id": "",
       "version_major": 2,
       "version_minor": 0
      },
      "text/plain": [
       "FloatProgress(value=0.0, bar_style='info', description='Progress:', layout=Layout(height='25px', width='50%'),…"
      ]
     },
     "metadata": {},
     "output_type": "display_data"
    },
    {
     "name": "stdout",
     "output_type": "stream",
     "text": [
      "217"
     ]
    }
   ],
   "source": [
    "staging_songs.join(songplays,\n",
    "                   (songplays.song == staging_songs.title) &\n",
    "                   (songplays.artist == staging_songs.artist_name),\n",
    "                   how = 'left_semi' # https://stackoverflow.com/a/54554055\n",
    "                  ) \\\n",
    "             .dropDuplicates(['song_id']) \\\n",
    "             .count()"
   ]
  },
  {
   "cell_type": "markdown",
   "metadata": {
    "editable": true
   },
   "source": [
    "How many artists are there in `artists` dimension?"
   ]
  },
  {
   "cell_type": "code",
   "execution_count": 12,
   "metadata": {},
   "outputs": [
    {
     "data": {
      "application/vnd.jupyter.widget-view+json": {
       "model_id": "46df7e8aefad41d9b87a0ea0bae7cbdd",
       "version_major": 2,
       "version_minor": 0
      },
      "text/plain": [
       "VBox()"
      ]
     },
     "metadata": {},
     "output_type": "display_data"
    },
    {
     "data": {
      "application/vnd.jupyter.widget-view+json": {
       "model_id": "",
       "version_major": 2,
       "version_minor": 0
      },
      "text/plain": [
       "FloatProgress(value=0.0, bar_style='info', description='Progress:', layout=Layout(height='25px', width='50%'),…"
      ]
     },
     "metadata": {},
     "output_type": "display_data"
    },
    {
     "name": "stdout",
     "output_type": "stream",
     "text": [
      "9993"
     ]
    }
   ],
   "source": [
    "staging_songs.where(\"artist_id is NOT NULL\").dropDuplicates(['artist_id', 'artist_name']).count()"
   ]
  },
  {
   "cell_type": "markdown",
   "metadata": {},
   "source": [
    "Are there artists with different names under the same id?"
   ]
  },
  {
   "cell_type": "code",
   "execution_count": 13,
   "metadata": {},
   "outputs": [
    {
     "data": {
      "application/vnd.jupyter.widget-view+json": {
       "model_id": "e98ec5e38d9d48d6bb82fe1104b4e5a1",
       "version_major": 2,
       "version_minor": 0
      },
      "text/plain": [
       "VBox()"
      ]
     },
     "metadata": {},
     "output_type": "display_data"
    },
    {
     "data": {
      "application/vnd.jupyter.widget-view+json": {
       "model_id": "",
       "version_major": 2,
       "version_minor": 0
      },
      "text/plain": [
       "FloatProgress(value=0.0, bar_style='info', description='Progress:', layout=Layout(height='25px', width='50%'),…"
      ]
     },
     "metadata": {},
     "output_type": "display_data"
    },
    {
     "name": "stdout",
     "output_type": "stream",
     "text": [
      "Artists with different names under the same id: 396\n",
      "+------------------+-----+\n",
      "|         artist_id|names|\n",
      "+------------------+-----+\n",
      "|ARMD3XX1187B9ACF84|    4|\n",
      "|ARV481W1187FB38CD9|    4|\n",
      "|ARTE9CG1187B99B1AF|    4|\n",
      "|ARZ5H0P1187B98A1DD|    4|\n",
      "|ARCBD0U1187FB466EF|    4|\n",
      "|ARS26BQ1187B99466D|    4|\n",
      "|AR5LTOU1187B98CAD9|    3|\n",
      "|ARSWHKY1187B9B40B2|    3|\n",
      "|AR3THYK1187B999F1F|    3|\n",
      "|AR1OGXT1187B9893EB|    3|\n",
      "+------------------+-----+\n",
      "only showing top 10 rows"
     ]
    }
   ],
   "source": [
    "artist_multinames = staging_songs \\\n",
    "    .dropDuplicates(['artist_id', 'artist_name']) \\\n",
    "    .groupBy('artist_id') \\\n",
    "    .agg(count('artist_name').alias('names')) \\\n",
    "    .where(col('names') > 1) \\\n",
    "    .sort(col('names').desc())\n",
    "print('Artists with different names under the same id: {}'.format(artist_multinames.count()))\n",
    "artist_multinames.show(10)"
   ]
  },
  {
   "cell_type": "markdown",
   "metadata": {},
   "source": [
    "What do artists with multi names look like?"
   ]
  },
  {
   "cell_type": "code",
   "execution_count": 14,
   "metadata": {},
   "outputs": [
    {
     "data": {
      "application/vnd.jupyter.widget-view+json": {
       "model_id": "a06f8caf97914d38b776146eb3d777a2",
       "version_major": 2,
       "version_minor": 0
      },
      "text/plain": [
       "VBox()"
      ]
     },
     "metadata": {},
     "output_type": "display_data"
    },
    {
     "data": {
      "application/vnd.jupyter.widget-view+json": {
       "model_id": "",
       "version_major": 2,
       "version_minor": 0
      },
      "text/plain": [
       "FloatProgress(value=0.0, bar_style='info', description='Progress:', layout=Layout(height='25px', width='50%'),…"
      ]
     },
     "metadata": {},
     "output_type": "display_data"
    },
    {
     "name": "stdout",
     "output_type": "stream",
     "text": [
      "+------------------+----------------------------------------+\n",
      "|artist_id         |artist_name                             |\n",
      "+------------------+----------------------------------------+\n",
      "|AR03BDP1187FB5B324|Britney Spears feat. Pharrell Williams  |\n",
      "|AR03BDP1187FB5B324|Britney Spears                          |\n",
      "|AR040M31187B98CA41|The Bug Featuring Spaceape              |\n",
      "|AR040M31187B98CA41|The Bug Featuring Ricky Ranking         |\n",
      "|AR04S8J1187FB48358|Clifford Brown                          |\n",
      "|AR04S8J1187FB48358|Clifford Brown / Max Roach Quintet      |\n",
      "|AR065TW1187FB4C3A5|Tricky                                  |\n",
      "|AR065TW1187FB4C3A5|Nearly God                              |\n",
      "|AR065TW1187FB4C3A5|Tricky / The Mad Dog Reflex             |\n",
      "|AR07SOR1187FB46179|The Goo Goo Dolls                       |\n",
      "|AR07SOR1187FB46179|Goo Goo Dolls                           |\n",
      "|AR0CANF1187B9AF35F|Dilated Peoples Featuring Devin The Dude|\n",
      "|AR0CANF1187B9AF35F|Dilated Peoples                         |\n",
      "|AR0CANF1187B9AF35F|Dilated Peoples Featuring Capleton      |\n",
      "|AR0CWOB1187B99FA08|GARFIELD                                |\n",
      "|AR0CWOB1187B99FA08|Christophe Beck                         |\n",
      "|AR0DYTO1187FB4B6AE|Loney Dear                              |\n",
      "|AR0DYTO1187FB4B6AE|Loney_ Dear                             |\n",
      "|AR0IAWL1187B9A96D0|Danilo Perez                            |\n",
      "|AR0IAWL1187B9A96D0|Danilo Perez / Claus Ogerman            |\n",
      "+------------------+----------------------------------------+\n",
      "only showing top 20 rows"
     ]
    }
   ],
   "source": [
    "staging_songs.dropDuplicates(['artist_id', 'artist_name']) \\\n",
    "    .join(artist_multinames.select('artist_id', 'names'), on = 'artist_id', how = 'left_semi') \\\n",
    "    .select('artist_id', 'artist_name') \\\n",
    "    .sort('artist_id') \\\n",
    "    .show(truncate = False)"
   ]
  },
  {
   "cell_type": "markdown",
   "metadata": {
    "editable": true
   },
   "source": [
    "How many artists will be mentioned in `songplays`?"
   ]
  },
  {
   "cell_type": "code",
   "execution_count": 15,
   "metadata": {},
   "outputs": [
    {
     "data": {
      "application/vnd.jupyter.widget-view+json": {
       "model_id": "113cb2d8a158401f86a951d3241c65fe",
       "version_major": 2,
       "version_minor": 0
      },
      "text/plain": [
       "VBox()"
      ]
     },
     "metadata": {},
     "output_type": "display_data"
    },
    {
     "data": {
      "application/vnd.jupyter.widget-view+json": {
       "model_id": "",
       "version_major": 2,
       "version_minor": 0
      },
      "text/plain": [
       "FloatProgress(value=0.0, bar_style='info', description='Progress:', layout=Layout(height='25px', width='50%'),…"
      ]
     },
     "metadata": {},
     "output_type": "display_data"
    },
    {
     "name": "stdout",
     "output_type": "stream",
     "text": [
      "200"
     ]
    }
   ],
   "source": [
    "staging_songs.join(songplays,\n",
    "                   (songplays.song == staging_songs.title) &\n",
    "                   (songplays.artist == staging_songs.artist_name),\n",
    "                   how = 'left_semi' # https://stackoverflow.com/a/54554055\n",
    "                  ) \\\n",
    "             .dropDuplicates(['artist_id']) \\\n",
    "             .count()"
   ]
  }
 ],
 "metadata": {
  "kernelspec": {
   "display_name": "PySpark",
   "language": "",
   "name": "pysparkkernel"
  },
  "language_info": {
   "codemirror_mode": {
    "name": "python",
    "version": 2
   },
   "mimetype": "text/x-python",
   "name": "pyspark",
   "pygments_lexer": "python2"
  }
 },
 "nbformat": 4,
 "nbformat_minor": 4
}
